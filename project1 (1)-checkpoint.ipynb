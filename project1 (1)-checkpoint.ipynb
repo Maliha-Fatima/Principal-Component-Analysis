{
 "cells": [
  {
   "cell_type": "markdown",
   "id": "ff6cb013-f0a6-4831-b235-5538e2d7f628",
   "metadata": {},
   "source": [
    "## **All imports**"
   ]
  },
  {
   "cell_type": "code",
   "execution_count": 1,
   "id": "0bc0fd89-5909-4c17-ae12-c45cc3cefa92",
   "metadata": {
    "tags": []
   },
   "outputs": [],
   "source": [
    "#Imports\n",
    "import pandas as pd\n",
    "import numpy as np\n",
    "import matplotlib.pyplot as plt\n",
    "import seaborn as sns\n",
    "from sklearn.preprocessing import LabelEncoder\n",
    "from imblearn.over_sampling import SMOTE    #for balancing the imbalancing target data(quality)\n",
    "from sklearn.model_selection import train_test_split    #use for splitting the data b/w train and test\n",
    "from sklearn.preprocessing import StandardScaler     #Feature Scaling which used to put our feature on same scale\n",
    "from sklearn.linear_model import LogisticRegression\n",
    "from sklearn.metrics import accuracy_score,precision_score,f1_score\n",
    "from sklearn.ensemble import RandomForestClassifier\n",
    "from sklearn.neighbors import KNeighborsClassifier\n",
    "from sklearn.tree import DecisionTreeClassifier\n",
    "from sklearn.ensemble import GradientBoostingClassifier"
   ]
  },
  {
   "cell_type": "markdown",
   "id": "9c6f4e59-ccfc-43e7-965b-ec17ee9fb18b",
   "metadata": {},
   "source": [
    "## **Reading the file**"
   ]
  },
  {
   "cell_type": "code",
   "execution_count": 2,
   "id": "e7b9346d-f1e7-4acc-a816-631716664f65",
   "metadata": {
    "tags": []
   },
   "outputs": [
    {
     "ename": "FileNotFoundError",
     "evalue": "[Errno 2] No such file or directory: 'winequalityN.csv'",
     "output_type": "error",
     "traceback": [
      "\u001b[1;31m---------------------------------------------------------------------------\u001b[0m",
      "\u001b[1;31mFileNotFoundError\u001b[0m                         Traceback (most recent call last)",
      "Cell \u001b[1;32mIn[2], line 2\u001b[0m\n\u001b[0;32m      1\u001b[0m \u001b[38;5;66;03m#Reading the dataset\u001b[39;00m\n\u001b[1;32m----> 2\u001b[0m data\u001b[38;5;241m=\u001b[39m\u001b[43mpd\u001b[49m\u001b[38;5;241;43m.\u001b[39;49m\u001b[43mread_csv\u001b[49m\u001b[43m(\u001b[49m\u001b[38;5;124;43m'\u001b[39;49m\u001b[38;5;124;43mwinequalityN.csv\u001b[39;49m\u001b[38;5;124;43m'\u001b[39;49m\u001b[43m)\u001b[49m\n",
      "File \u001b[1;32m~\\anaconda3\\Lib\\site-packages\\pandas\\io\\parsers\\readers.py:948\u001b[0m, in \u001b[0;36mread_csv\u001b[1;34m(filepath_or_buffer, sep, delimiter, header, names, index_col, usecols, dtype, engine, converters, true_values, false_values, skipinitialspace, skiprows, skipfooter, nrows, na_values, keep_default_na, na_filter, verbose, skip_blank_lines, parse_dates, infer_datetime_format, keep_date_col, date_parser, date_format, dayfirst, cache_dates, iterator, chunksize, compression, thousands, decimal, lineterminator, quotechar, quoting, doublequote, escapechar, comment, encoding, encoding_errors, dialect, on_bad_lines, delim_whitespace, low_memory, memory_map, float_precision, storage_options, dtype_backend)\u001b[0m\n\u001b[0;32m    935\u001b[0m kwds_defaults \u001b[38;5;241m=\u001b[39m _refine_defaults_read(\n\u001b[0;32m    936\u001b[0m     dialect,\n\u001b[0;32m    937\u001b[0m     delimiter,\n\u001b[1;32m   (...)\u001b[0m\n\u001b[0;32m    944\u001b[0m     dtype_backend\u001b[38;5;241m=\u001b[39mdtype_backend,\n\u001b[0;32m    945\u001b[0m )\n\u001b[0;32m    946\u001b[0m kwds\u001b[38;5;241m.\u001b[39mupdate(kwds_defaults)\n\u001b[1;32m--> 948\u001b[0m \u001b[38;5;28;01mreturn\u001b[39;00m \u001b[43m_read\u001b[49m\u001b[43m(\u001b[49m\u001b[43mfilepath_or_buffer\u001b[49m\u001b[43m,\u001b[49m\u001b[43m \u001b[49m\u001b[43mkwds\u001b[49m\u001b[43m)\u001b[49m\n",
      "File \u001b[1;32m~\\anaconda3\\Lib\\site-packages\\pandas\\io\\parsers\\readers.py:611\u001b[0m, in \u001b[0;36m_read\u001b[1;34m(filepath_or_buffer, kwds)\u001b[0m\n\u001b[0;32m    608\u001b[0m _validate_names(kwds\u001b[38;5;241m.\u001b[39mget(\u001b[38;5;124m\"\u001b[39m\u001b[38;5;124mnames\u001b[39m\u001b[38;5;124m\"\u001b[39m, \u001b[38;5;28;01mNone\u001b[39;00m))\n\u001b[0;32m    610\u001b[0m \u001b[38;5;66;03m# Create the parser.\u001b[39;00m\n\u001b[1;32m--> 611\u001b[0m parser \u001b[38;5;241m=\u001b[39m \u001b[43mTextFileReader\u001b[49m\u001b[43m(\u001b[49m\u001b[43mfilepath_or_buffer\u001b[49m\u001b[43m,\u001b[49m\u001b[43m \u001b[49m\u001b[38;5;241;43m*\u001b[39;49m\u001b[38;5;241;43m*\u001b[39;49m\u001b[43mkwds\u001b[49m\u001b[43m)\u001b[49m\n\u001b[0;32m    613\u001b[0m \u001b[38;5;28;01mif\u001b[39;00m chunksize \u001b[38;5;129;01mor\u001b[39;00m iterator:\n\u001b[0;32m    614\u001b[0m     \u001b[38;5;28;01mreturn\u001b[39;00m parser\n",
      "File \u001b[1;32m~\\anaconda3\\Lib\\site-packages\\pandas\\io\\parsers\\readers.py:1448\u001b[0m, in \u001b[0;36mTextFileReader.__init__\u001b[1;34m(self, f, engine, **kwds)\u001b[0m\n\u001b[0;32m   1445\u001b[0m     \u001b[38;5;28mself\u001b[39m\u001b[38;5;241m.\u001b[39moptions[\u001b[38;5;124m\"\u001b[39m\u001b[38;5;124mhas_index_names\u001b[39m\u001b[38;5;124m\"\u001b[39m] \u001b[38;5;241m=\u001b[39m kwds[\u001b[38;5;124m\"\u001b[39m\u001b[38;5;124mhas_index_names\u001b[39m\u001b[38;5;124m\"\u001b[39m]\n\u001b[0;32m   1447\u001b[0m \u001b[38;5;28mself\u001b[39m\u001b[38;5;241m.\u001b[39mhandles: IOHandles \u001b[38;5;241m|\u001b[39m \u001b[38;5;28;01mNone\u001b[39;00m \u001b[38;5;241m=\u001b[39m \u001b[38;5;28;01mNone\u001b[39;00m\n\u001b[1;32m-> 1448\u001b[0m \u001b[38;5;28mself\u001b[39m\u001b[38;5;241m.\u001b[39m_engine \u001b[38;5;241m=\u001b[39m \u001b[38;5;28;43mself\u001b[39;49m\u001b[38;5;241;43m.\u001b[39;49m\u001b[43m_make_engine\u001b[49m\u001b[43m(\u001b[49m\u001b[43mf\u001b[49m\u001b[43m,\u001b[49m\u001b[43m \u001b[49m\u001b[38;5;28;43mself\u001b[39;49m\u001b[38;5;241;43m.\u001b[39;49m\u001b[43mengine\u001b[49m\u001b[43m)\u001b[49m\n",
      "File \u001b[1;32m~\\anaconda3\\Lib\\site-packages\\pandas\\io\\parsers\\readers.py:1705\u001b[0m, in \u001b[0;36mTextFileReader._make_engine\u001b[1;34m(self, f, engine)\u001b[0m\n\u001b[0;32m   1703\u001b[0m     \u001b[38;5;28;01mif\u001b[39;00m \u001b[38;5;124m\"\u001b[39m\u001b[38;5;124mb\u001b[39m\u001b[38;5;124m\"\u001b[39m \u001b[38;5;129;01mnot\u001b[39;00m \u001b[38;5;129;01min\u001b[39;00m mode:\n\u001b[0;32m   1704\u001b[0m         mode \u001b[38;5;241m+\u001b[39m\u001b[38;5;241m=\u001b[39m \u001b[38;5;124m\"\u001b[39m\u001b[38;5;124mb\u001b[39m\u001b[38;5;124m\"\u001b[39m\n\u001b[1;32m-> 1705\u001b[0m \u001b[38;5;28mself\u001b[39m\u001b[38;5;241m.\u001b[39mhandles \u001b[38;5;241m=\u001b[39m \u001b[43mget_handle\u001b[49m\u001b[43m(\u001b[49m\n\u001b[0;32m   1706\u001b[0m \u001b[43m    \u001b[49m\u001b[43mf\u001b[49m\u001b[43m,\u001b[49m\n\u001b[0;32m   1707\u001b[0m \u001b[43m    \u001b[49m\u001b[43mmode\u001b[49m\u001b[43m,\u001b[49m\n\u001b[0;32m   1708\u001b[0m \u001b[43m    \u001b[49m\u001b[43mencoding\u001b[49m\u001b[38;5;241;43m=\u001b[39;49m\u001b[38;5;28;43mself\u001b[39;49m\u001b[38;5;241;43m.\u001b[39;49m\u001b[43moptions\u001b[49m\u001b[38;5;241;43m.\u001b[39;49m\u001b[43mget\u001b[49m\u001b[43m(\u001b[49m\u001b[38;5;124;43m\"\u001b[39;49m\u001b[38;5;124;43mencoding\u001b[39;49m\u001b[38;5;124;43m\"\u001b[39;49m\u001b[43m,\u001b[49m\u001b[43m \u001b[49m\u001b[38;5;28;43;01mNone\u001b[39;49;00m\u001b[43m)\u001b[49m\u001b[43m,\u001b[49m\n\u001b[0;32m   1709\u001b[0m \u001b[43m    \u001b[49m\u001b[43mcompression\u001b[49m\u001b[38;5;241;43m=\u001b[39;49m\u001b[38;5;28;43mself\u001b[39;49m\u001b[38;5;241;43m.\u001b[39;49m\u001b[43moptions\u001b[49m\u001b[38;5;241;43m.\u001b[39;49m\u001b[43mget\u001b[49m\u001b[43m(\u001b[49m\u001b[38;5;124;43m\"\u001b[39;49m\u001b[38;5;124;43mcompression\u001b[39;49m\u001b[38;5;124;43m\"\u001b[39;49m\u001b[43m,\u001b[49m\u001b[43m \u001b[49m\u001b[38;5;28;43;01mNone\u001b[39;49;00m\u001b[43m)\u001b[49m\u001b[43m,\u001b[49m\n\u001b[0;32m   1710\u001b[0m \u001b[43m    \u001b[49m\u001b[43mmemory_map\u001b[49m\u001b[38;5;241;43m=\u001b[39;49m\u001b[38;5;28;43mself\u001b[39;49m\u001b[38;5;241;43m.\u001b[39;49m\u001b[43moptions\u001b[49m\u001b[38;5;241;43m.\u001b[39;49m\u001b[43mget\u001b[49m\u001b[43m(\u001b[49m\u001b[38;5;124;43m\"\u001b[39;49m\u001b[38;5;124;43mmemory_map\u001b[39;49m\u001b[38;5;124;43m\"\u001b[39;49m\u001b[43m,\u001b[49m\u001b[43m \u001b[49m\u001b[38;5;28;43;01mFalse\u001b[39;49;00m\u001b[43m)\u001b[49m\u001b[43m,\u001b[49m\n\u001b[0;32m   1711\u001b[0m \u001b[43m    \u001b[49m\u001b[43mis_text\u001b[49m\u001b[38;5;241;43m=\u001b[39;49m\u001b[43mis_text\u001b[49m\u001b[43m,\u001b[49m\n\u001b[0;32m   1712\u001b[0m \u001b[43m    \u001b[49m\u001b[43merrors\u001b[49m\u001b[38;5;241;43m=\u001b[39;49m\u001b[38;5;28;43mself\u001b[39;49m\u001b[38;5;241;43m.\u001b[39;49m\u001b[43moptions\u001b[49m\u001b[38;5;241;43m.\u001b[39;49m\u001b[43mget\u001b[49m\u001b[43m(\u001b[49m\u001b[38;5;124;43m\"\u001b[39;49m\u001b[38;5;124;43mencoding_errors\u001b[39;49m\u001b[38;5;124;43m\"\u001b[39;49m\u001b[43m,\u001b[49m\u001b[43m \u001b[49m\u001b[38;5;124;43m\"\u001b[39;49m\u001b[38;5;124;43mstrict\u001b[39;49m\u001b[38;5;124;43m\"\u001b[39;49m\u001b[43m)\u001b[49m\u001b[43m,\u001b[49m\n\u001b[0;32m   1713\u001b[0m \u001b[43m    \u001b[49m\u001b[43mstorage_options\u001b[49m\u001b[38;5;241;43m=\u001b[39;49m\u001b[38;5;28;43mself\u001b[39;49m\u001b[38;5;241;43m.\u001b[39;49m\u001b[43moptions\u001b[49m\u001b[38;5;241;43m.\u001b[39;49m\u001b[43mget\u001b[49m\u001b[43m(\u001b[49m\u001b[38;5;124;43m\"\u001b[39;49m\u001b[38;5;124;43mstorage_options\u001b[39;49m\u001b[38;5;124;43m\"\u001b[39;49m\u001b[43m,\u001b[49m\u001b[43m \u001b[49m\u001b[38;5;28;43;01mNone\u001b[39;49;00m\u001b[43m)\u001b[49m\u001b[43m,\u001b[49m\n\u001b[0;32m   1714\u001b[0m \u001b[43m\u001b[49m\u001b[43m)\u001b[49m\n\u001b[0;32m   1715\u001b[0m \u001b[38;5;28;01massert\u001b[39;00m \u001b[38;5;28mself\u001b[39m\u001b[38;5;241m.\u001b[39mhandles \u001b[38;5;129;01mis\u001b[39;00m \u001b[38;5;129;01mnot\u001b[39;00m \u001b[38;5;28;01mNone\u001b[39;00m\n\u001b[0;32m   1716\u001b[0m f \u001b[38;5;241m=\u001b[39m \u001b[38;5;28mself\u001b[39m\u001b[38;5;241m.\u001b[39mhandles\u001b[38;5;241m.\u001b[39mhandle\n",
      "File \u001b[1;32m~\\anaconda3\\Lib\\site-packages\\pandas\\io\\common.py:863\u001b[0m, in \u001b[0;36mget_handle\u001b[1;34m(path_or_buf, mode, encoding, compression, memory_map, is_text, errors, storage_options)\u001b[0m\n\u001b[0;32m    858\u001b[0m \u001b[38;5;28;01melif\u001b[39;00m \u001b[38;5;28misinstance\u001b[39m(handle, \u001b[38;5;28mstr\u001b[39m):\n\u001b[0;32m    859\u001b[0m     \u001b[38;5;66;03m# Check whether the filename is to be opened in binary mode.\u001b[39;00m\n\u001b[0;32m    860\u001b[0m     \u001b[38;5;66;03m# Binary mode does not support 'encoding' and 'newline'.\u001b[39;00m\n\u001b[0;32m    861\u001b[0m     \u001b[38;5;28;01mif\u001b[39;00m ioargs\u001b[38;5;241m.\u001b[39mencoding \u001b[38;5;129;01mand\u001b[39;00m \u001b[38;5;124m\"\u001b[39m\u001b[38;5;124mb\u001b[39m\u001b[38;5;124m\"\u001b[39m \u001b[38;5;129;01mnot\u001b[39;00m \u001b[38;5;129;01min\u001b[39;00m ioargs\u001b[38;5;241m.\u001b[39mmode:\n\u001b[0;32m    862\u001b[0m         \u001b[38;5;66;03m# Encoding\u001b[39;00m\n\u001b[1;32m--> 863\u001b[0m         handle \u001b[38;5;241m=\u001b[39m \u001b[38;5;28;43mopen\u001b[39;49m\u001b[43m(\u001b[49m\n\u001b[0;32m    864\u001b[0m \u001b[43m            \u001b[49m\u001b[43mhandle\u001b[49m\u001b[43m,\u001b[49m\n\u001b[0;32m    865\u001b[0m \u001b[43m            \u001b[49m\u001b[43mioargs\u001b[49m\u001b[38;5;241;43m.\u001b[39;49m\u001b[43mmode\u001b[49m\u001b[43m,\u001b[49m\n\u001b[0;32m    866\u001b[0m \u001b[43m            \u001b[49m\u001b[43mencoding\u001b[49m\u001b[38;5;241;43m=\u001b[39;49m\u001b[43mioargs\u001b[49m\u001b[38;5;241;43m.\u001b[39;49m\u001b[43mencoding\u001b[49m\u001b[43m,\u001b[49m\n\u001b[0;32m    867\u001b[0m \u001b[43m            \u001b[49m\u001b[43merrors\u001b[49m\u001b[38;5;241;43m=\u001b[39;49m\u001b[43merrors\u001b[49m\u001b[43m,\u001b[49m\n\u001b[0;32m    868\u001b[0m \u001b[43m            \u001b[49m\u001b[43mnewline\u001b[49m\u001b[38;5;241;43m=\u001b[39;49m\u001b[38;5;124;43m\"\u001b[39;49m\u001b[38;5;124;43m\"\u001b[39;49m\u001b[43m,\u001b[49m\n\u001b[0;32m    869\u001b[0m \u001b[43m        \u001b[49m\u001b[43m)\u001b[49m\n\u001b[0;32m    870\u001b[0m     \u001b[38;5;28;01melse\u001b[39;00m:\n\u001b[0;32m    871\u001b[0m         \u001b[38;5;66;03m# Binary mode\u001b[39;00m\n\u001b[0;32m    872\u001b[0m         handle \u001b[38;5;241m=\u001b[39m \u001b[38;5;28mopen\u001b[39m(handle, ioargs\u001b[38;5;241m.\u001b[39mmode)\n",
      "\u001b[1;31mFileNotFoundError\u001b[0m: [Errno 2] No such file or directory: 'winequalityN.csv'"
     ]
    }
   ],
   "source": [
    "#Reading the dataset\n",
    "data=pd.read_csv('winequalityN.csv')\n"
   ]
  },
  {
   "cell_type": "markdown",
   "id": "bc94c686-246b-496f-b246-657fff891976",
   "metadata": {},
   "source": [
    "## **Analysis of the dataset**"
   ]
  },
  {
   "cell_type": "code",
   "execution_count": null,
   "id": "d80823a9-93f9-456f-b8e4-a158cc931b0a",
   "metadata": {
    "tags": []
   },
   "outputs": [],
   "source": [
    "#Analysis of the dataset\n",
    "data.head()\n",
    "data.tail()"
   ]
  },
  {
   "cell_type": "markdown",
   "id": "2c287436-0c9b-4400-bdb6-60d66716a324",
   "metadata": {},
   "source": [
    "## **Shape of our dataset**"
   ]
  },
  {
   "cell_type": "code",
   "execution_count": 3,
   "id": "7ac9bd4e-ca1a-4995-8835-0f09fbe6505e",
   "metadata": {
    "tags": []
   },
   "outputs": [
    {
     "ename": "NameError",
     "evalue": "name 'data' is not defined",
     "output_type": "error",
     "traceback": [
      "\u001b[1;31m---------------------------------------------------------------------------\u001b[0m",
      "\u001b[1;31mNameError\u001b[0m                                 Traceback (most recent call last)",
      "Cell \u001b[1;32mIn[3], line 1\u001b[0m\n\u001b[1;32m----> 1\u001b[0m \u001b[43mdata\u001b[49m\u001b[38;5;241m.\u001b[39mshape  \u001b[38;5;66;03m#shape is an attribute not a method() gives output as tuple\u001b[39;00m\n",
      "\u001b[1;31mNameError\u001b[0m: name 'data' is not defined"
     ]
    }
   ],
   "source": [
    "data.shape  #shape is an attribute not a method() gives output as tuple"
   ]
  },
  {
   "cell_type": "code",
   "execution_count": 4,
   "id": "0a240560-2d14-42dc-8769-147324f175a5",
   "metadata": {
    "tags": []
   },
   "outputs": [
    {
     "ename": "NameError",
     "evalue": "name 'data' is not defined",
     "output_type": "error",
     "traceback": [
      "\u001b[1;31m---------------------------------------------------------------------------\u001b[0m",
      "\u001b[1;31mNameError\u001b[0m                                 Traceback (most recent call last)",
      "Cell \u001b[1;32mIn[4], line 1\u001b[0m\n\u001b[1;32m----> 1\u001b[0m \u001b[38;5;28mprint\u001b[39m(\u001b[38;5;124m\"\u001b[39m\u001b[38;5;124mNumber of Rows\u001b[39m\u001b[38;5;124m\"\u001b[39m,\u001b[43mdata\u001b[49m\u001b[38;5;241m.\u001b[39mshape[\u001b[38;5;241m0\u001b[39m])\n\u001b[0;32m      2\u001b[0m \u001b[38;5;28mprint\u001b[39m(\u001b[38;5;124m\"\u001b[39m\u001b[38;5;124mNumber of Columns\u001b[39m\u001b[38;5;124m\"\u001b[39m,data\u001b[38;5;241m.\u001b[39mshape[\u001b[38;5;241m1\u001b[39m])\n",
      "\u001b[1;31mNameError\u001b[0m: name 'data' is not defined"
     ]
    }
   ],
   "source": [
    "\n",
    "print(\"Number of Rows\",data.shape[0])\n",
    "print(\"Number of Columns\",data.shape[1])"
   ]
  },
  {
   "cell_type": "code",
   "execution_count": 5,
   "id": "ec168ff9-5ca5-4d50-ab8b-633aa97cfca6",
   "metadata": {
    "tags": []
   },
   "outputs": [
    {
     "ename": "NameError",
     "evalue": "name 'data' is not defined",
     "output_type": "error",
     "traceback": [
      "\u001b[1;31m---------------------------------------------------------------------------\u001b[0m",
      "\u001b[1;31mNameError\u001b[0m                                 Traceback (most recent call last)",
      "Cell \u001b[1;32mIn[5], line 1\u001b[0m\n\u001b[1;32m----> 1\u001b[0m \u001b[43mdata\u001b[49m\u001b[38;5;241m.\u001b[39minfo()  \u001b[38;5;66;03m#it gives the non null values count and data type of each rows and memory uses\u001b[39;00m\n",
      "\u001b[1;31mNameError\u001b[0m: name 'data' is not defined"
     ]
    }
   ],
   "source": [
    "data.info()  #it gives the non null values count and data type of each rows and memory uses"
   ]
  },
  {
   "cell_type": "markdown",
   "id": "290ffef6-ad4a-4d50-a71a-649633e13429",
   "metadata": {},
   "source": [
    "## **Check Null Values of the Data set**"
   ]
  },
  {
   "cell_type": "code",
   "execution_count": 7,
   "id": "445a2e35-46da-42e8-90cc-caa9cd3b8012",
   "metadata": {},
   "outputs": [
    {
     "data": {
      "text/plain": [
       "type                     0\n",
       "fixed acidity           10\n",
       "volatile acidity         8\n",
       "citric acid              3\n",
       "residual sugar           2\n",
       "chlorides                2\n",
       "free sulfur dioxide      0\n",
       "total sulfur dioxide     0\n",
       "density                  0\n",
       "pH                       9\n",
       "sulphates                4\n",
       "alcohol                  0\n",
       "quality                  0\n",
       "dtype: int64"
      ]
     },
     "execution_count": 7,
     "metadata": {},
     "output_type": "execute_result"
    }
   ],
   "source": [
    "\n",
    "data.isnull().sum() #checking null values"
   ]
  },
  {
   "cell_type": "markdown",
   "id": "591a4117-3247-41cd-9cb5-9d41f89ed522",
   "metadata": {},
   "source": [
    "## **Remove Null values**"
   ]
  },
  {
   "cell_type": "code",
   "execution_count": 8,
   "id": "477af468-479e-4150-a052-17ee1fa70e13",
   "metadata": {},
   "outputs": [
    {
     "data": {
      "text/plain": [
       "type                    0\n",
       "fixed acidity           0\n",
       "volatile acidity        0\n",
       "citric acid             0\n",
       "residual sugar          0\n",
       "chlorides               0\n",
       "free sulfur dioxide     0\n",
       "total sulfur dioxide    0\n",
       "density                 0\n",
       "pH                      0\n",
       "sulphates               0\n",
       "alcohol                 0\n",
       "quality                 0\n",
       "dtype: int64"
      ]
     },
     "execution_count": 8,
     "metadata": {},
     "output_type": "execute_result"
    }
   ],
   "source": [
    "#removing the null values\n",
    "\n",
    "data.fillna(data.mean(numeric_only=True), inplace=True)  #filling the null value with the mean of the their column\n",
    "data.isnull().sum()   #again checking the null values"
   ]
  },
  {
   "cell_type": "markdown",
   "id": "590678b4-8218-4afe-9ece-81fb3ecdde05",
   "metadata": {},
   "source": [
    "## **Get Overall statistice About the data**"
   ]
  },
  {
   "cell_type": "code",
   "execution_count": 9,
   "id": "d5b59fa8-8597-4c50-806f-c0f8777f93c6",
   "metadata": {},
   "outputs": [
    {
     "data": {
      "text/html": [
       "<div>\n",
       "<style scoped>\n",
       "    .dataframe tbody tr th:only-of-type {\n",
       "        vertical-align: middle;\n",
       "    }\n",
       "\n",
       "    .dataframe tbody tr th {\n",
       "        vertical-align: top;\n",
       "    }\n",
       "\n",
       "    .dataframe thead th {\n",
       "        text-align: right;\n",
       "    }\n",
       "</style>\n",
       "<table border=\"1\" class=\"dataframe\">\n",
       "  <thead>\n",
       "    <tr style=\"text-align: right;\">\n",
       "      <th></th>\n",
       "      <th>fixed acidity</th>\n",
       "      <th>volatile acidity</th>\n",
       "      <th>citric acid</th>\n",
       "      <th>residual sugar</th>\n",
       "      <th>chlorides</th>\n",
       "      <th>free sulfur dioxide</th>\n",
       "      <th>total sulfur dioxide</th>\n",
       "      <th>density</th>\n",
       "      <th>pH</th>\n",
       "      <th>sulphates</th>\n",
       "      <th>alcohol</th>\n",
       "      <th>quality</th>\n",
       "    </tr>\n",
       "  </thead>\n",
       "  <tbody>\n",
       "    <tr>\n",
       "      <th>count</th>\n",
       "      <td>6497.000000</td>\n",
       "      <td>6497.000000</td>\n",
       "      <td>6497.000000</td>\n",
       "      <td>6497.000000</td>\n",
       "      <td>6497.000000</td>\n",
       "      <td>6497.000000</td>\n",
       "      <td>6497.000000</td>\n",
       "      <td>6497.000000</td>\n",
       "      <td>6497.000000</td>\n",
       "      <td>6497.000000</td>\n",
       "      <td>6497.000000</td>\n",
       "      <td>6497.000000</td>\n",
       "    </tr>\n",
       "    <tr>\n",
       "      <th>mean</th>\n",
       "      <td>7.216579</td>\n",
       "      <td>0.339691</td>\n",
       "      <td>0.318722</td>\n",
       "      <td>5.444326</td>\n",
       "      <td>0.056042</td>\n",
       "      <td>30.525319</td>\n",
       "      <td>115.744574</td>\n",
       "      <td>0.994697</td>\n",
       "      <td>3.218395</td>\n",
       "      <td>0.531215</td>\n",
       "      <td>10.491801</td>\n",
       "      <td>5.818378</td>\n",
       "    </tr>\n",
       "    <tr>\n",
       "      <th>std</th>\n",
       "      <td>1.295751</td>\n",
       "      <td>0.164548</td>\n",
       "      <td>0.145231</td>\n",
       "      <td>4.757392</td>\n",
       "      <td>0.035031</td>\n",
       "      <td>17.749400</td>\n",
       "      <td>56.521855</td>\n",
       "      <td>0.002999</td>\n",
       "      <td>0.160637</td>\n",
       "      <td>0.148768</td>\n",
       "      <td>1.192712</td>\n",
       "      <td>0.873255</td>\n",
       "    </tr>\n",
       "    <tr>\n",
       "      <th>min</th>\n",
       "      <td>3.800000</td>\n",
       "      <td>0.080000</td>\n",
       "      <td>0.000000</td>\n",
       "      <td>0.600000</td>\n",
       "      <td>0.009000</td>\n",
       "      <td>1.000000</td>\n",
       "      <td>6.000000</td>\n",
       "      <td>0.987110</td>\n",
       "      <td>2.720000</td>\n",
       "      <td>0.220000</td>\n",
       "      <td>8.000000</td>\n",
       "      <td>3.000000</td>\n",
       "    </tr>\n",
       "    <tr>\n",
       "      <th>25%</th>\n",
       "      <td>6.400000</td>\n",
       "      <td>0.230000</td>\n",
       "      <td>0.250000</td>\n",
       "      <td>1.800000</td>\n",
       "      <td>0.038000</td>\n",
       "      <td>17.000000</td>\n",
       "      <td>77.000000</td>\n",
       "      <td>0.992340</td>\n",
       "      <td>3.110000</td>\n",
       "      <td>0.430000</td>\n",
       "      <td>9.500000</td>\n",
       "      <td>5.000000</td>\n",
       "    </tr>\n",
       "    <tr>\n",
       "      <th>50%</th>\n",
       "      <td>7.000000</td>\n",
       "      <td>0.290000</td>\n",
       "      <td>0.310000</td>\n",
       "      <td>3.000000</td>\n",
       "      <td>0.047000</td>\n",
       "      <td>29.000000</td>\n",
       "      <td>118.000000</td>\n",
       "      <td>0.994890</td>\n",
       "      <td>3.210000</td>\n",
       "      <td>0.510000</td>\n",
       "      <td>10.300000</td>\n",
       "      <td>6.000000</td>\n",
       "    </tr>\n",
       "    <tr>\n",
       "      <th>75%</th>\n",
       "      <td>7.700000</td>\n",
       "      <td>0.400000</td>\n",
       "      <td>0.390000</td>\n",
       "      <td>8.100000</td>\n",
       "      <td>0.065000</td>\n",
       "      <td>41.000000</td>\n",
       "      <td>156.000000</td>\n",
       "      <td>0.996990</td>\n",
       "      <td>3.320000</td>\n",
       "      <td>0.600000</td>\n",
       "      <td>11.300000</td>\n",
       "      <td>6.000000</td>\n",
       "    </tr>\n",
       "    <tr>\n",
       "      <th>max</th>\n",
       "      <td>15.900000</td>\n",
       "      <td>1.580000</td>\n",
       "      <td>1.660000</td>\n",
       "      <td>65.800000</td>\n",
       "      <td>0.611000</td>\n",
       "      <td>289.000000</td>\n",
       "      <td>440.000000</td>\n",
       "      <td>1.038980</td>\n",
       "      <td>4.010000</td>\n",
       "      <td>2.000000</td>\n",
       "      <td>14.900000</td>\n",
       "      <td>9.000000</td>\n",
       "    </tr>\n",
       "  </tbody>\n",
       "</table>\n",
       "</div>"
      ],
      "text/plain": [
       "       fixed acidity  volatile acidity  citric acid  residual sugar  \\\n",
       "count    6497.000000       6497.000000  6497.000000     6497.000000   \n",
       "mean        7.216579          0.339691     0.318722        5.444326   \n",
       "std         1.295751          0.164548     0.145231        4.757392   \n",
       "min         3.800000          0.080000     0.000000        0.600000   \n",
       "25%         6.400000          0.230000     0.250000        1.800000   \n",
       "50%         7.000000          0.290000     0.310000        3.000000   \n",
       "75%         7.700000          0.400000     0.390000        8.100000   \n",
       "max        15.900000          1.580000     1.660000       65.800000   \n",
       "\n",
       "         chlorides  free sulfur dioxide  total sulfur dioxide      density  \\\n",
       "count  6497.000000          6497.000000           6497.000000  6497.000000   \n",
       "mean      0.056042            30.525319            115.744574     0.994697   \n",
       "std       0.035031            17.749400             56.521855     0.002999   \n",
       "min       0.009000             1.000000              6.000000     0.987110   \n",
       "25%       0.038000            17.000000             77.000000     0.992340   \n",
       "50%       0.047000            29.000000            118.000000     0.994890   \n",
       "75%       0.065000            41.000000            156.000000     0.996990   \n",
       "max       0.611000           289.000000            440.000000     1.038980   \n",
       "\n",
       "                pH    sulphates      alcohol      quality  \n",
       "count  6497.000000  6497.000000  6497.000000  6497.000000  \n",
       "mean      3.218395     0.531215    10.491801     5.818378  \n",
       "std       0.160637     0.148768     1.192712     0.873255  \n",
       "min       2.720000     0.220000     8.000000     3.000000  \n",
       "25%       3.110000     0.430000     9.500000     5.000000  \n",
       "50%       3.210000     0.510000    10.300000     6.000000  \n",
       "75%       3.320000     0.600000    11.300000     6.000000  \n",
       "max       4.010000     2.000000    14.900000     9.000000  "
      ]
     },
     "execution_count": 9,
     "metadata": {},
     "output_type": "execute_result"
    }
   ],
   "source": [
    "#get overall the statistics about the dataset\n",
    "data.describe()"
   ]
  },
  {
   "cell_type": "code",
   "execution_count": 10,
   "id": "20eb6b55-c8fa-4f14-adbc-8141a416ccf4",
   "metadata": {},
   "outputs": [
    {
     "data": {
      "text/plain": [
       "Index(['type', 'fixed acidity', 'volatile acidity', 'citric acid',\n",
       "       'residual sugar', 'chlorides', 'free sulfur dioxide',\n",
       "       'total sulfur dioxide', 'density', 'pH', 'sulphates', 'alcohol',\n",
       "       'quality'],\n",
       "      dtype='object')"
      ]
     },
     "execution_count": 10,
     "metadata": {},
     "output_type": "execute_result"
    }
   ],
   "source": [
    "data.columns"
   ]
  },
  {
   "cell_type": "markdown",
   "id": "4f443937-5847-476d-8070-da4a46d232ed",
   "metadata": {},
   "source": [
    "# **Data Visualization**"
   ]
  },
  {
   "cell_type": "markdown",
   "id": "c3243b75-0539-4241-85f7-c4343fd68912",
   "metadata": {},
   "source": [
    "## **Quality  VS  Fixed Acidity**"
   ]
  },
  {
   "cell_type": "code",
   "execution_count": 11,
   "id": "f5f99efb-084d-46d4-bf4a-65b6535dc650",
   "metadata": {},
   "outputs": [
    {
     "data": {
      "image/png": "[encoded data removed]",
      "text/plain": [
       "<Figure size 640x480 with 1 Axes>"
      ]
     },
     "metadata": {},
     "output_type": "display_data"
    }
   ],
   "source": [
    "#Quality vs fixed acidity\n",
    "plt.bar(data['quality'],data['fixed acidity'])\n",
    "plt.xlabel(\"Quality\")\n",
    "plt.ylabel(\"fixed acidity\")\n",
    "plt.show()\n"
   ]
  },
  {
   "cell_type": "markdown",
   "id": "78ea28e3-178f-49d3-91b2-a7a991bfc49b",
   "metadata": {},
   "source": [
    "## **Quality  VS  volatile acidity**"
   ]
  },
  {
   "cell_type": "code",
   "execution_count": 12,
   "id": "f3824181-1c98-4b04-a11b-10c549a757d7",
   "metadata": {},
   "outputs": [
    {
     "data": {
      "image/png": "[encoded data removed]",
      "text/plain": [
       "<Figure size 640x480 with 1 Axes>"
      ]
     },
     "metadata": {},
     "output_type": "display_data"
    }
   ],
   "source": [
    "#Quality vs volatile acidity\n",
    "plt.bar(data['quality'],data['volatile acidity'])\n",
    "plt.xlabel(\"Quality\")\n",
    "plt.ylabel(\"volatile acidity\")\n",
    "plt.show()\n"
   ]
  },
  {
   "cell_type": "markdown",
   "id": "1e61db66-c3ae-4ac0-892f-b57177b76904",
   "metadata": {},
   "source": [
    "## **Quality  Vs  Residual sugae**"
   ]
  },
  {
   "cell_type": "code",
   "execution_count": 13,
   "id": "9128efea-292f-4779-ab65-af90207bb92b",
   "metadata": {},
   "outputs": [
    {
     "data": {
      "image/png": "[encoded data removed]",
      "text/plain": [
       "<Figure size 640x480 with 1 Axes>"
      ]
     },
     "metadata": {},
     "output_type": "display_data"
    }
   ],
   "source": [
    "#Quality vs residual sugar\n",
    "plt.bar(data['quality'],data['residual sugar'])\n",
    "plt.xlabel(\"Quality\")\n",
    "plt.ylabel(\"residual sugar\")\n",
    "plt.show()"
   ]
  },
  {
   "cell_type": "markdown",
   "id": "5fe88d11-ff2b-47ec-989d-e1765062280d",
   "metadata": {},
   "source": [
    "## **Quality  vs  chlorides**"
   ]
  },
  {
   "cell_type": "code",
   "execution_count": 14,
   "id": "3a4f1d88-766f-49da-929a-750fd645277a",
   "metadata": {},
   "outputs": [
    {
     "data": {
      "image/png": "[encoded data removed]",
      "text/plain": [
       "<Figure size 640x480 with 1 Axes>"
      ]
     },
     "metadata": {},
     "output_type": "display_data"
    }
   ],
   "source": [
    "#Quality vs chlorides\n",
    "plt.bar(data['quality'],data['chlorides'])\n",
    "plt.xlabel(\"Quality\")\n",
    "plt.ylabel(\"chlorides\")\n",
    "plt.show()"
   ]
  },
  {
   "cell_type": "markdown",
   "id": "ebed03b1-fd9f-4503-a52e-639cbc645fdc",
   "metadata": {},
   "source": [
    "## **Quality  vs  total sulfur dioxide**"
   ]
  },
  {
   "cell_type": "code",
   "execution_count": null,
   "id": "e340f317-4516-46d0-a93f-fda5e0f0e682",
   "metadata": {},
   "outputs": [],
   "source": [
    "#Quality vs total sulfur dioxide\n",
    "plt.bar(data['quality'],data['total sulfur dioxide'])\n",
    "plt.xlabel(\"Quality\")\n",
    "plt.ylabel(\"total sulfur dioxide\")\n",
    "plt.show()"
   ]
  },
  {
   "cell_type": "markdown",
   "id": "7971e325-b259-40a5-b798-56fe05bf21eb",
   "metadata": {},
   "source": [
    "## **Quality  Vs  Alcohol**"
   ]
  },
  {
   "cell_type": "code",
   "execution_count": null,
   "id": "da2ceddf-7c88-4b3a-8e4f-de2071355c9c",
   "metadata": {},
   "outputs": [],
   "source": [
    "#Quality vs alcohol\n",
    "plt.bar(data['quality'],data['alcohol'])\n",
    "plt.xlabel(\"Quality\")\n",
    "plt.ylabel(\"talcohol\")\n",
    "plt.show()"
   ]
  },
  {
   "cell_type": "markdown",
   "id": "d039be6f-08f1-4fda-b357-76ed86dca484",
   "metadata": {},
   "source": [
    "## **Count plot of the Quality**"
   ]
  },
  {
   "cell_type": "code",
   "execution_count": null,
   "id": "a799797d-6b42-40b6-bb3a-d93c6461d3e7",
   "metadata": {},
   "outputs": [],
   "source": [
    "sns.countplot(x='quality',data=data)"
   ]
  },
  {
   "cell_type": "markdown",
   "id": "e47e4fb4-7bdd-4400-8070-0a64b2364814",
   "metadata": {},
   "source": [
    "## **Encoding the data from string to numeric**"
   ]
  },
  {
   "cell_type": "code",
   "execution_count": null,
   "id": "5d2b4ce5-538a-44ec-b45f-6ee70c030b3f",
   "metadata": {},
   "outputs": [],
   "source": [
    "#In data set type column have two values white and red ===> we encode the white(1) and red (0)\n",
    "\n",
    "le=LabelEncoder()\n",
    "\n",
    "le.fit(data['type'])\n",
    "data['type']=le.transform(data['type'])\n",
    "data.head()\n",
    "data.tail()"
   ]
  },
  {
   "cell_type": "markdown",
   "id": "ad12ef24-35a2-4778-a6be-aeba26cdbecf",
   "metadata": {},
   "source": [
    "# **Correlation Matrix**"
   ]
  },
  {
   "cell_type": "markdown",
   "id": "dbdbd5bf-111b-4702-9ca6-dc91d2d2595e",
   "metadata": {},
   "source": [
    "#### **A value of 1 means the features are perfectly positively correlated (they increase together).**\n",
    "#### **A value of -1 means the features are perfectly negatively correlated (one increases as the other decreases).**\n",
    "#### **A value of 0 means there is no correlation (no relationship).**\n",
    "#### **Look for squares with values close to 1 or -1 for strong relationships.**"
   ]
  },
  {
   "cell_type": "code",
   "execution_count": null,
   "id": "4326fc3f-8edb-4843-bfa2-740ac11f9df8",
   "metadata": {},
   "outputs": [],
   "source": [
    "#heatmap\n",
    "\n",
    "plt.figure(figsize=(20,10))\n",
    "sns.heatmap(data.corr(),annot=True)"
   ]
  },
  {
   "cell_type": "markdown",
   "id": "66c11db7-5460-4512-9be4-16a7015dd4db",
   "metadata": {},
   "source": [
    "## **Binarization of target variable**"
   ]
  },
  {
   "cell_type": "markdown",
   "id": "4ec36c85-875d-4c1d-9b7f-26296992eb06",
   "metadata": {},
   "source": [
    "#### **binary classification tasks where the target variable should only have two possible values, typically 0 and 1.**\n",
    "#### **if the value of quality is greater than 6 its quality is good(1) else the quality is bad(0)**"
   ]
  },
  {
   "cell_type": "code",
   "execution_count": null,
   "id": "c8fdaddd-76ab-484d-b0ec-84eb1fbf588e",
   "metadata": {},
   "outputs": [],
   "source": [
    "#Binarization of target variable\n",
    "data['quality'].unique()\n"
   ]
  },
  {
   "cell_type": "code",
   "execution_count": null,
   "id": "48616c1b-74ae-46cb-87a7-3103f05ce1da",
   "metadata": {},
   "outputs": [],
   "source": [
    "data['quality']=[1 if x>6 else 0 for x in data['quality']]"
   ]
  },
  {
   "cell_type": "code",
   "execution_count": null,
   "id": "c6f99b84-adb4-4d7c-b737-f99913a04486",
   "metadata": {},
   "outputs": [],
   "source": [
    "data['quality'].unique()\n",
    "data['quality'].value_counts()\n",
    "\n",
    "#here 1 denote good quality and o denote bad quality of wine\n",
    "#here bad quality data(0) is higher than good quality so this is imbalance data"
   ]
  },
  {
   "cell_type": "markdown",
   "id": "314164c7-b3ea-41c1-876d-8214bfaff493",
   "metadata": {},
   "source": [
    "### **Imbalace data**"
   ]
  },
  {
   "cell_type": "code",
   "execution_count": null,
   "id": "bafb93f4-a4b9-4863-a489-53e6815caca5",
   "metadata": {},
   "outputs": [],
   "source": [
    "X=data.drop('quality',axis=1)\n",
    "y=data['quality']"
   ]
  },
  {
   "cell_type": "markdown",
   "id": "435c7e29-f377-4317-880c-d9e25473eee2",
   "metadata": {},
   "source": [
    "## **handling imbalance dataset**"
   ]
  },
  {
   "cell_type": "markdown",
   "id": "1ac4055e-8cc7-4adc-8156-d8dc4ab41ff1",
   "metadata": {},
   "source": [
    "#### **The SMOTE => function from the imbalanced-learn library is used to handle imbalanced datasets**"
   ]
  },
  {
   "cell_type": "code",
   "execution_count": null,
   "id": "8387a3be-90dd-49c9-8671-027e316703bc",
   "metadata": {},
   "outputs": [],
   "source": [
    "X_res,y_res=SMOTE().fit_resample(X,y)\n",
    "y_res.value_counts()"
   ]
  },
  {
   "cell_type": "markdown",
   "id": "2a7c325b-b61c-4971-a769-2be6ecb14056",
   "metadata": {},
   "source": [
    "## **Splitting The Dataset Into the Training set(80%) and Test Set(20%)**"
   ]
  },
  {
   "cell_type": "code",
   "execution_count": null,
   "id": "f0c1d8fd-332e-4dce-8abb-b46f83501161",
   "metadata": {},
   "outputs": [],
   "source": [
    "#splitting the dataset\n",
    "\n",
    "X_train,X_test,y_train,y_test=train_test_split(X_res,y_res,test_size=0.20,random_state=0)"
   ]
  },
  {
   "cell_type": "markdown",
   "id": "bd83359a-2002-413a-ae8a-6bc2631583ef",
   "metadata": {},
   "source": [
    "## **Feature Scaling**"
   ]
  },
  {
   "cell_type": "markdown",
   "id": "ae3b033e-298e-49f8-bd0f-bc82bfadbeda",
   "metadata": {},
   "source": [
    "#### **This is a common preprocessing step in machine learning to ensure that each feature contributes equally to the model.**"
   ]
  },
  {
   "cell_type": "code",
   "execution_count": null,
   "id": "c4fdf381-f3fc-4357-a8be-8292a37c296f",
   "metadata": {},
   "outputs": [],
   "source": [
    "st=StandardScaler()\n",
    "X_train=st.fit_transform(X_train)\n",
    "X_test=st.fit_transform(X_test)"
   ]
  },
  {
   "cell_type": "code",
   "execution_count": null,
   "id": "40cb7aa5-3129-4cfb-b3bf-948e80b62acc",
   "metadata": {},
   "outputs": [],
   "source": [
    "X_train"
   ]
  },
  {
   "cell_type": "markdown",
   "id": "381bcad0-7ec3-40c4-9645-db3aaf7a2be1",
   "metadata": {},
   "source": [
    "# **Applying PCA**"
   ]
  },
  {
   "cell_type": "markdown",
   "id": "92867dd5-c053-4cdf-b2eb-854f29d2528b",
   "metadata": {},
   "source": [
    "#### **Principal Component Analysis (PCA) helps in reducing the number of variables (dimensions) in a dataset while preserving as much information as possible.**\n",
    "#### **This is particularly useful when dealing with high-dimensional data, as it can simplify models and improve computational efficiency.**"
   ]
  },
  {
   "cell_type": "code",
   "execution_count": null,
   "id": "9f002a4b-955c-4c4e-9dae-f940e25d2c7e",
   "metadata": {},
   "outputs": [],
   "source": [
    "#Applying PCA which reduce dimensions\n",
    "\n",
    "from sklearn.decomposition import PCA"
   ]
  },
  {
   "cell_type": "code",
   "execution_count": null,
   "id": "cb6fb844-da2b-475a-aa51-ca54f00616cb",
   "metadata": {},
   "outputs": [],
   "source": [
    "pca=PCA(n_components=0.90) #.90 means you want to retain 90% info of your dataset"
   ]
  },
  {
   "cell_type": "code",
   "execution_count": null,
   "id": "86ab754c-24a3-4759-9e96-aec684629e4f",
   "metadata": {},
   "outputs": [],
   "source": [
    "X_train=pca.fit_transform(X_train)\n",
    "X_test=pca.fit_transform(X_test)"
   ]
  },
  {
   "cell_type": "code",
   "execution_count": null,
   "id": "86842369-5e33-4bc3-b36f-9cbfee3969df",
   "metadata": {},
   "outputs": [],
   "source": [
    "\n",
    "sum(pca.explained_variance_ratio_)  "
   ]
  },
  {
   "cell_type": "markdown",
   "id": "e6aab59e-db85-4e21-821c-abed301b128d",
   "metadata": {},
   "source": [
    "#### **it reduce 12 col to 7 col with 90% of data**"
   ]
  },
  {
   "cell_type": "code",
   "execution_count": null,
   "id": "b054c262-fb3c-498c-a84c-90e8b946229c",
   "metadata": {},
   "outputs": [],
   "source": [
    "pca.explained_variance_ratio_  #it gives 7 components"
   ]
  },
  {
   "cell_type": "markdown",
   "id": "61b670ed-a5d0-4706-aa06-73ba2f783d7a",
   "metadata": {},
   "source": [
    "\n",
    "## **Logistice Regression**"
   ]
  },
  {
   "cell_type": "markdown",
   "id": "9838dd77-9494-4a36-ac0c-d37773c1629d",
   "metadata": {},
   "source": [
    "#### **Accuracy=Number of Correct Predictions/Total Number of Predictions**\n",
    "#### **Precision=True Positives/(True Positives+False Positives)**\n",
    "#### **F1 score=2×[(precision*recall)/(precision+recall)]**"
   ]
  },
  {
   "cell_type": "code",
   "execution_count": null,
   "id": "af1466e0-8262-43fa-9d58-6a019f0f491f",
   "metadata": {},
   "outputs": [],
   "source": [
    "lr=LogisticRegression()\n",
    "lr.fit(X_train,y_train)"
   ]
  },
  {
   "cell_type": "code",
   "execution_count": null,
   "id": "d4cd37ce-3fc3-4ca3-af72-8de804e99625",
   "metadata": {},
   "outputs": [],
   "source": [
    "y_pred1=lr.predict(X_test)"
   ]
  },
  {
   "cell_type": "code",
   "execution_count": null,
   "id": "8b750452-d8b4-4837-8091-4bb91316cc10",
   "metadata": {},
   "outputs": [],
   "source": [
    "accuracy_score(y_test,y_pred1)"
   ]
  },
  {
   "cell_type": "code",
   "execution_count": null,
   "id": "977f2fdb-c1ec-494e-abf7-af5c283ef4ab",
   "metadata": {},
   "outputs": [],
   "source": [
    "precision_score(y_test,y_pred1)"
   ]
  },
  {
   "cell_type": "code",
   "execution_count": null,
   "id": "293d07e3-ddc3-4c99-9a6c-4b60adeae0e5",
   "metadata": {},
   "outputs": [],
   "source": [
    "f1_score(y_test,y_pred1)"
   ]
  },
  {
   "cell_type": "markdown",
   "id": "ac3ae687-4ec5-49ee-9542-a4ad8be3e75a",
   "metadata": {},
   "source": [
    "## **Random forest classifier**"
   ]
  },
  {
   "cell_type": "code",
   "execution_count": null,
   "id": "6c5f2ed4-0633-4eb6-b12f-33ad8f54cf2c",
   "metadata": {},
   "outputs": [],
   "source": [
    "rf=RandomForestClassifier()\n",
    "rf.fit(X_train,y_train)"
   ]
  },
  {
   "cell_type": "code",
   "execution_count": null,
   "id": "d1bb8556-e233-43b0-819c-3652fa76e97f",
   "metadata": {},
   "outputs": [],
   "source": [
    "y_pred2=rf.predict(X_test)"
   ]
  },
  {
   "cell_type": "code",
   "execution_count": null,
   "id": "c98311d2-1a0f-4c29-9c9c-f9d37963cb12",
   "metadata": {},
   "outputs": [],
   "source": [
    "accuracy_score(y_test,y_pred2)"
   ]
  },
  {
   "cell_type": "code",
   "execution_count": null,
   "id": "241dcba5-35c7-4c79-a24b-a67f3ac3fa09",
   "metadata": {},
   "outputs": [],
   "source": [
    "precision_score(y_test,y_pred2)"
   ]
  },
  {
   "cell_type": "code",
   "execution_count": null,
   "id": "a4707f05-23a3-4572-98d6-fbd3e2f4ba6c",
   "metadata": {},
   "outputs": [],
   "source": [
    "f1_score(y_test,y_pred1)"
   ]
  },
  {
   "cell_type": "markdown",
   "id": "f8a8993a-8026-4d87-8885-ba24464ef15a",
   "metadata": {},
   "source": [
    "## **KNeighbors Classifier**"
   ]
  },
  {
   "cell_type": "code",
   "execution_count": null,
   "id": "f6add269-aa54-465a-871f-3ae56ba31006",
   "metadata": {},
   "outputs": [],
   "source": [
    "knn=KNeighborsClassifier()\n",
    "knn.fit(X_train,y_train)"
   ]
  },
  {
   "cell_type": "code",
   "execution_count": null,
   "id": "2b9e09e4-9b25-4b42-a585-331269b6bcd6",
   "metadata": {},
   "outputs": [],
   "source": [
    "y_pred3=knn.predict(X_test)"
   ]
  },
  {
   "cell_type": "code",
   "execution_count": null,
   "id": "ea11931f-c1f9-4845-803e-bc2997e06adf",
   "metadata": {},
   "outputs": [],
   "source": [
    "accuracy_score(y_test,y_pred3)"
   ]
  },
  {
   "cell_type": "code",
   "execution_count": null,
   "id": "d73684ae-e94b-4b4b-ae3c-5d0558b112a1",
   "metadata": {},
   "outputs": [],
   "source": [
    "precision_score(y_test,y_pred3)"
   ]
  },
  {
   "cell_type": "code",
   "execution_count": null,
   "id": "5c0df5fa-4ea9-48f8-8b0f-c8fcd28adede",
   "metadata": {},
   "outputs": [],
   "source": [
    "f1_score(y_test,y_pred3)"
   ]
  },
  {
   "cell_type": "markdown",
   "id": "aca0f730-dc94-4c60-9c39-d645e16ee1a1",
   "metadata": {},
   "source": [
    "## **Decision Tree Classifier**"
   ]
  },
  {
   "cell_type": "code",
   "execution_count": null,
   "id": "fe05de9a-4149-42d5-881d-2d8502d1859f",
   "metadata": {},
   "outputs": [],
   "source": [
    "dtc=DecisionTreeClassifier()"
   ]
  },
  {
   "cell_type": "code",
   "execution_count": null,
   "id": "012e7ede-2070-4b70-8719-41dc60f54d9d",
   "metadata": {},
   "outputs": [],
   "source": [
    "dtc.fit(X_train,y_train)"
   ]
  },
  {
   "cell_type": "code",
   "execution_count": null,
   "id": "96086667-09b0-4d4c-ae56-c61dc09ec67a",
   "metadata": {},
   "outputs": [],
   "source": [
    "y_pred4=dtc.predict(X_test)"
   ]
  },
  {
   "cell_type": "code",
   "execution_count": null,
   "id": "f0bd9b3f-cf75-4a75-8cb8-9d968d317256",
   "metadata": {},
   "outputs": [],
   "source": [
    "accuracy_score(y_test,y_pred4)"
   ]
  },
  {
   "cell_type": "code",
   "execution_count": null,
   "id": "0ed5bae9-3f4b-44b1-9f47-4bf14ec22800",
   "metadata": {},
   "outputs": [],
   "source": [
    "precision_score(y_test,y_pred4)"
   ]
  },
  {
   "cell_type": "code",
   "execution_count": null,
   "id": "3bf7ad87-a160-4c86-b9d1-ddc82cb106bb",
   "metadata": {},
   "outputs": [],
   "source": [
    "f1_score(y_test,y_pred4)"
   ]
  },
  {
   "cell_type": "markdown",
   "id": "ad8fb5c8-90fa-45d0-96a0-6ed041faecca",
   "metadata": {},
   "source": [
    "## **Gradient Boosting Classifier**"
   ]
  },
  {
   "cell_type": "code",
   "execution_count": null,
   "id": "222d9032-9c25-42fc-b516-91860bcf3772",
   "metadata": {},
   "outputs": [],
   "source": [
    "gbc=GradientBoostingClassifier()"
   ]
  },
  {
   "cell_type": "code",
   "execution_count": null,
   "id": "ecc90781-5df4-4481-a86c-2361f5a4d332",
   "metadata": {},
   "outputs": [],
   "source": [
    "gbc.fit(X_train,y_train)"
   ]
  },
  {
   "cell_type": "code",
   "execution_count": null,
   "id": "44156d2e-bbb5-4fbe-aeb1-81ab47bf6919",
   "metadata": {},
   "outputs": [],
   "source": [
    "y_pred5=gbc.predict(X_test)"
   ]
  },
  {
   "cell_type": "code",
   "execution_count": null,
   "id": "4d0f0f62-7f50-4b1f-acac-dc3d4a625b7b",
   "metadata": {},
   "outputs": [],
   "source": [
    "accuracy_score(y_test,y_pred5)"
   ]
  },
  {
   "cell_type": "code",
   "execution_count": null,
   "id": "c67c8183-f1c6-45f5-bf26-f3c081cf1423",
   "metadata": {},
   "outputs": [],
   "source": [
    "precision_score(y_test,y_pred5)"
   ]
  },
  {
   "cell_type": "code",
   "execution_count": null,
   "id": "3aefa811-1871-4299-93f4-aab779dfd5fb",
   "metadata": {},
   "outputs": [],
   "source": [
    "f1_score(y_test,y_pred5)"
   ]
  },
  {
   "cell_type": "markdown",
   "id": "c2770070-e97a-401e-9612-09311bc6885c",
   "metadata": {},
   "source": [
    "## **Selecting best Accuracy  above  5  modles**"
   ]
  },
  {
   "cell_type": "code",
   "execution_count": null,
   "id": "151e4023-83f4-4f0b-a07c-302cd6252d30",
   "metadata": {},
   "outputs": [],
   "source": [
    "final_data=pd.DataFrame({'Models':['LR','RF','KNN','DT','GBC'],\n",
    "               'ACCU':[accuracy_score(y_test,y_pred1)*100,\n",
    "                       accuracy_score(y_test,y_pred2)*100,\n",
    "                       accuracy_score(y_test,y_pred3)*100,\n",
    "                       accuracy_score(y_test,y_pred4)*100,\n",
    "                       accuracy_score(y_test,y_pred5)*100]})"
   ]
  },
  {
   "cell_type": "code",
   "execution_count": null,
   "id": "6b344f6e-5876-4381-9b99-88621c384da2",
   "metadata": {},
   "outputs": [],
   "source": [
    "\n",
    "final_data"
   ]
  },
  {
   "cell_type": "markdown",
   "id": "4cdedcca-03bc-4623-8486-09d594e74e48",
   "metadata": {},
   "source": [
    "## **Bar Plot of above 5 Models According to Accuracy**"
   ]
  },
  {
   "cell_type": "code",
   "execution_count": null,
   "id": "f3a899e9-e6e2-4b23-9b7c-258f0e8d0ed4",
   "metadata": {},
   "outputs": [],
   "source": [
    "sns.barplot(x='Models',y='ACCU',data=final_data)\n",
    "plt.show()"
   ]
  },
  {
   "cell_type": "markdown",
   "id": "f782780b-4d99-48c1-881a-a3c5cb7eea57",
   "metadata": {},
   "source": [
    "## **Save the Model**"
   ]
  },
  {
   "cell_type": "code",
   "execution_count": null,
   "id": "d362902a-5deb-42c7-816a-055df5ce76db",
   "metadata": {},
   "outputs": [],
   "source": [
    "X=data.drop('quality',axis=1)\n",
    "y=data['quality']"
   ]
  },
  {
   "cell_type": "markdown",
   "id": "7813229c-f2a5-436c-befb-659817eae76d",
   "metadata": {},
   "source": [
    "#### **joblib is a Python library primarily used for saving and loading Python objects such as NumPy arrays, Pandas DataFrames, and scikit-learn models**"
   ]
  },
  {
   "cell_type": "code",
   "execution_count": null,
   "id": "b3ec511c-50aa-4a72-b03f-1cd58b892b22",
   "metadata": {},
   "outputs": [],
   "source": [
    "import joblib"
   ]
  },
  {
   "cell_type": "markdown",
   "id": "19ee788e-0402-4a18-9956-63a3af670253",
   "metadata": {},
   "source": [
    "#### **dump is the function of joblib which takes 2 parameter first is model and second is filename**"
   ]
  },
  {
   "cell_type": "code",
   "execution_count": null,
   "id": "fd36e0aa-2f03-4db4-b1a2-64f3ccf859e8",
   "metadata": {},
   "outputs": [],
   "source": [
    "joblib.dump(knn,'Wine_quality_prediction')"
   ]
  },
  {
   "cell_type": "code",
   "execution_count": null,
   "id": "98bc27ff-644c-49ee-b088-8a94663aee6c",
   "metadata": {},
   "outputs": [],
   "source": [
    "model=joblib.load('Wine_quality_prediction')"
   ]
  },
  {
   "cell_type": "code",
   "execution_count": null,
   "id": "89efd3b8-adb2-4541-90a7-74dd7543b634",
   "metadata": {},
   "outputs": [],
   "source": [
    "new_data=pd.DataFrame({\n",
    "    'type':1, 'fixed acidity':7, 'volatile acidity':0.27, 'citric acid':0.36,\n",
    "       'residual sugar':20.7, 'chlorides':0.045, 'free sulfur dioxide':45,\n",
    "       'total sulfur dioxide':170, 'density':1.001, 'pH':3, 'sulphates':.45, 'alcohol':8.8,\n",
    "},index=[0])"
   ]
  },
  {
   "cell_type": "code",
   "execution_count": null,
   "id": "38e8a0dd-848c-40e6-b18a-a21f61fc57c9",
   "metadata": {},
   "outputs": [],
   "source": [
    "new_data"
   ]
  },
  {
   "cell_type": "code",
   "execution_count": null,
   "id": "4c21497e-1aeb-43bb-8ad0-42f31fea1206",
   "metadata": {},
   "outputs": [],
   "source": [
    "test=pca.transform(st.transform(new_data))"
   ]
  },
  {
   "cell_type": "code",
   "execution_count": null,
   "id": "4a6bbb26-c7a9-4a99-a874-64e4d1919499",
   "metadata": {},
   "outputs": [],
   "source": [
    "p=model.predict(test)"
   ]
  },
  {
   "cell_type": "code",
   "execution_count": null,
   "id": "366d9598-eda9-4380-b10d-07c88ad9bf51",
   "metadata": {},
   "outputs": [],
   "source": [
    "if p[0]==1:\n",
    "    print(\"Good quality wine\")\n",
    "else:\n",
    "    print(\"Bad quality wine\")"
   ]
  },
  {
   "cell_type": "markdown",
   "id": "54f61e1b-8515-4071-b616-6f1e1621b16d",
   "metadata": {},
   "source": [
    "# **GUI**"
   ]
  },
  {
   "cell_type": "markdown",
   "id": "35487c24-80bf-40f9-8032-9b6e06b986f1",
   "metadata": {},
   "source": [
    "#### **tkinter is Python's built-in GUI (Graphical User Interface) toolkit**"
   ]
  },
  {
   "cell_type": "code",
   "execution_count": null,
   "id": "4369dc93-edd2-421c-8724-aa59eee208ca",
   "metadata": {},
   "outputs": [],
   "source": [
    "import tkinter as tk\n",
    "from tkinter import Button, Label\n",
    "import joblib\n",
    "from sklearn.preprocessing import StandardScaler\n",
    "from sklearn.decomposition import PCA\n",
    "\n",
    "# Load the pre-trained model and preprocessing objects\n",
    "model = joblib.load('Wine_quality_prediction')\n",
    "\n",
    "\n",
    "def show_entry_fields():\n",
    "    p1 = float(e1.get())\n",
    "    p2 = float(e2.get())\n",
    "    p3 = float(e3.get())\n",
    "    p4 = float(e4.get())\n",
    "    p5 = float(e5.get())\n",
    "    p6 = float(e6.get())\n",
    "    p7 = float(e7.get())\n",
    "    p8 = float(e8.get())\n",
    "    p9 = float(e9.get())\n",
    "    p10 = float(e10.get())\n",
    "    p11 = float(e11.get())\n",
    "    p12 = float(e12.get())\n",
    "    \n",
    "    # Process inputs and make prediction\n",
    "    input_data = [[p1, p2, p3, p4, p5, p6, p7, p8, p9, p10, p11, p12]]\n",
    "    input_data_scaled = st.transform(input_data)\n",
    "    input_data_pca = pca.transform(input_data_scaled)\n",
    "    result = model.predict(input_data_pca)\n",
    "\n",
    "    \n",
    "    if result == 1:\n",
    "        print(\"Predicted Wine Quality is Good \")\n",
    "    else:\n",
    "        print(\"Predicted Wine Quality is Bad \")\n",
    "\n",
    "\n",
    "# Create Tkinter window\n",
    "master = tk.Tk()\n",
    "master.title(\"Wine Quality Prediction\")\n",
    "\n",
    "# Define field names\n",
    "field_names = [\n",
    "   \"type\",\"Fixed Acidity\", \"Volatile Acidity\", \"Citric Acid\", \"Residual Sugar\",\n",
    "    \"Chlorides\", \"Free Sulfur Dioxide\", \"Total Sulfur Dioxide\", \"Density\",\n",
    "    \"pH\", \"Sulphates\", \"Alcohol\"\n",
    "]\n",
    "\n",
    "# Create and place entry fields with labels\n",
    "entries = []\n",
    "for i, field_name in enumerate(field_names):\n",
    "    Label(master, text=field_name).grid(row=i, column=0)\n",
    "    entry = tk.Entry(master)\n",
    "    entry.grid(row=i, column=1)\n",
    "    entries.append(entry)\n",
    "\n",
    "# Unpack entries for easier access\n",
    "e1, e2, e3, e4, e5, e6, e7, e8, e9, e10, e11, e12 = entries\n",
    "\n",
    "# Create and place Predict button\n",
    "Button(master, text='Predict', command=show_entry_fields).grid(row=len(field_names), column=1)\n",
    "\n",
    "# Start Tkinter event loop\n",
    "master.mainloop()\n"
   ]
  },
  {
   "cell_type": "code",
   "execution_count": null,
   "id": "f00dfa13-fa8a-45f7-89a1-26864937d044",
   "metadata": {},
   "outputs": [],
   "source": []
  }
 ],
 "metadata": {
  "kernelspec": {
   "display_name": "Python 3 (ipykernel)",
   "language": "python",
   "name": "python3"
  },
  "language_info": {
   "codemirror_mode": {
    "name": "ipython",
    "version": 3
   },
   "file_extension": ".py",
   "mimetype": "text/x-python",
   "name": "python",
   "nbconvert_exporter": "python",
   "pygments_lexer": "ipython3",
   "version": "3.11.5"
  }
 },
 "nbformat": 4,
 "nbformat_minor": 5
}
